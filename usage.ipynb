{
 "cells": [
  {
   "cell_type": "markdown",
   "metadata": {},
   "source": [
    "# Pilot CFM implementation"
   ]
  },
  {
   "cell_type": "markdown",
   "metadata": {},
   "source": [
    "### Load example programs\n"
   ]
  },
  {
   "cell_type": "code",
   "execution_count": 1,
   "metadata": {},
   "outputs": [],
   "source": [
    "from example.python.crash import crashme_tup, crashme3_tup\n",
    "from example.python.triangle import triangle_tup, triangle3_tup\n",
    "from example.python.count import count_tup\n",
    "\n",
    "import inspect"
   ]
  },
  {
   "cell_type": "markdown",
   "metadata": {},
   "source": [
    "### Fuzzing configuration\n"
   ]
  },
  {
   "cell_type": "code",
   "execution_count": 2,
   "metadata": {},
   "outputs": [
    {
     "name": "stdout",
     "output_type": "stream",
     "text": [
      "def crashme3(s):\n",
      "    if len(s) != 15:\n",
      "        raise Exception(\"Wrong input.\")\n",
      "    if s[0] == \"1\":\n",
      "        crashme(s[3:7])\n",
      "    elif s[1] == \"1\":\n",
      "        crashme(s[7:11])\n",
      "    elif s[2] == \"1\":\n",
      "        crashme(s[11:15])\n",
      "    else:\n",
      "        raise Exception(\"Wrong input.\")\n",
      "\n",
      "Deep bug!\n"
     ]
    }
   ],
   "source": [
    "program, seed_input_list = crashme3_tup\n",
    "print(inspect.getsource(program))\n",
    "try:\n",
    "    program(seed_input_list[1])\n",
    "except Exception as e:\n",
    "    print(e)\n",
    "\n",
    "n = 10000"
   ]
  },
  {
   "cell_type": "markdown",
   "metadata": {},
   "source": [
    "### Run fuzzer and record input, coverage\n"
   ]
  },
  {
   "cell_type": "code",
   "execution_count": 3,
   "metadata": {},
   "outputs": [
    {
     "name": "stdout",
     "output_type": "stream",
     "text": [
      "Unique path: 17\n",
      "\n",
      "path=(('', ('crashme3', 10)), ('', ('crashme3', 12)), ('', ('crashme3', 14)), ('', ('crashme3', 16)), ('', ('crashme3', 19)), ('', ('__exit__', 83)))\n",
      "inputs={'000abcdefgi#jkl', '23asdffrd!QSwer', '000abcdefghijkl', '03`dq~w`Er\"ad!a', '000abcduf\\x10ghijl', '>50;pdqI$s$fqwu', '000abJcdefghikl', '000abcdeFghijk,', '00bad\\x01as$fqwe[r', '0\\x110asdfad!ywerh'}\n",
      "\n",
      "path=(('', ('crashme3', 10)), ('', ('crashme3', 12)), ('', ('crashme3', 13)), ('crashme3:13', ('crashme', 2)), ('crashme3:13', ('crashme', 3)), ('crashme3:13', ('crashme', 4)), ('crashme3:13', ('crashme', 5)), ('crashme3:13', ('crashme', 6)), ('', ('__exit__', 83)))\n",
      "inputs={'100bad!es6df7er', '100bad!asd2fqer', '100bad!asdfqwer', '100bad!asdqwenr', '100bad!,asdfq7g', '100bad!asdqlwer', '1g0bad!asdfqwer', '100bad!adfUqwer', '10\"bad!a&sfqwer', '100bad!adfqweKr'}\n",
      "\n",
      "path=(('', ('crashme3', 10)), ('', ('crashme3', 12)), ('', ('crashme3', 14)), ('', ('crashme3', 15)), ('crashme3:15', ('crashme', 2)), ('crashme3:15', ('crashme', 3)), ('crashme3:15', ('crashme', 4)), ('crashme3:15', ('crashme', 5)), ('crashme3:15', ('crashme', 6)), ('', ('__exit__', 83)))\n",
      "inputs={'010sdtXbad!qweU', '01Rasdfbad!qwer', '010asdfbad!qwer', '010asdfbad!Qw%r', '010a{dfbad!qwur', '010asdfbad!qwe|', '010idhfbad!qwr=', '01h0sdfbad!qwer', '010asdfbad!=wer', '011asdFbad!quep'}\n",
      "\n"
     ]
    }
   ],
   "source": [
    "from GreyboxFuzzer import GreyboxFuzzerRecorder\n",
    "from MutationFuzzer import Mutator, PowerSchedule\n",
    "from Coverage import FunctionContCovRunner\n",
    "\n",
    "greybox_recorder = GreyboxFuzzerRecorder(\n",
    "    seed_input_list, Mutator(), PowerSchedule()\n",
    ")\n",
    "runner = FunctionContCovRunner(program)\n",
    "greybox_recorder.runs(runner, trials=n)\n",
    "record = greybox_recorder.get_record()\n",
    "\n",
    "print(f\"Unique path: {len(record)}\\n\")\n",
    "for path, inputs in list(record.items())[:3]:\n",
    "    print(f\"{path=}\")\n",
    "    print(f\"{inputs=}\")\n",
    "    print()"
   ]
  },
  {
   "cell_type": "markdown",
   "metadata": {},
   "source": [
    "### Create a graph from coverage"
   ]
  },
  {
   "cell_type": "code",
   "execution_count": 4,
   "metadata": {},
   "outputs": [],
   "source": [
    "from graph import Graph\n",
    "\n",
    "contcov_graph = Graph()\n",
    "coverage_graph = Graph()\n",
    "for path, inputs in record.items():\n",
    "    contcov_graph.accept(path)\n",
    "    coverage_list = [contcov[1] for contcov in path]\n",
    "    coverage_graph.accept(coverage_list)\n",
    "# contcov_graph.print_graph(\"contcov.gv\")\n",
    "# coverage_graph.print_graph(\"coverage.gv\")"
   ]
  },
  {
   "cell_type": "code",
   "execution_count": 5,
   "metadata": {},
   "outputs": [
    {
     "name": "stdout",
     "output_type": "stream",
     "text": [
      "branches: [<('crashme3', 10)>, <('crashme3', 12)>, <('crashme3', 14)>, <('crashme3', 16)>, <('crashme', 2)>, <('crashme', 3)>, <('crashme', 4)>, <('crashme', 5)>]\n",
      "call contexts: {'crashme3:17', 'crashme3:15', 'crashme3:13'}\n"
     ]
    }
   ],
   "source": [
    "from ControlFlowModel import ControlFlowModel\n",
    "\n",
    "CFM = ControlFlowModel(record, contcov_graph, coverage_graph, runner)\n",
    "CFM.identify_branch()\n",
    "CFM.identify_call_context()"
   ]
  },
  {
   "cell_type": "markdown",
   "metadata": {},
   "source": [
    "### [Temp] assign temporary contextmap -- need to be changed to learn this"
   ]
  },
  {
   "cell_type": "code",
   "execution_count": 6,
   "metadata": {},
   "outputs": [
    {
     "name": "stdout",
     "output_type": "stream",
     "text": [
      "Welcome to the CBC MILP Solver \n",
      "Version: 2.10.3 \n",
      "Build Date: Dec 15 2019 \n",
      "\n",
      "command line - /Users/bohrok/.pyenv/versions/3.9.7/envs/fuzzingbook/lib/python3.9/site-packages/pulp/apis/../solverdir/cbc/osx/64/cbc /var/folders/t1/6ty9rj2159ggbpcnm4zqcgs00000gn/T/9ab62733d3bd462b9d1c5ef6416a44ee-pulp.mps timeMode elapsed branch printingOptions all solution /var/folders/t1/6ty9rj2159ggbpcnm4zqcgs00000gn/T/9ab62733d3bd462b9d1c5ef6416a44ee-pulp.sol (default strategy 1)\n",
      "At line 2 NAME          MODEL\n",
      "At line 3 ROWS\n",
      "At line 17 COLUMNS\n",
      "At line 42 RHS\n",
      "At line 55 BOUNDS\n",
      "At line 62 ENDATA\n",
      "Problem MODEL has 12 rows, 6 columns and 18 elements\n",
      "Coin0008I MODEL read with 0 errors\n",
      "Option for timeMode changed from cpu to elapsed\n",
      "Presolve 0 (-12) rows, 0 (-6) columns and 0 (-18) elements\n",
      "Empty problem - 0 rows, 0 columns and 0 elements\n",
      "Optimal - objective value 12\n",
      "After Postsolve, objective 12, infeasibilities - dual 0 (0), primal 0 (0)\n",
      "Optimal objective 12 - 0 iterations time 0.002, Presolve 0.00\n",
      "Option for printingOptions changed from normal to all\n",
      "Total time (CPU seconds):       0.00   (Wallclock seconds):       0.01\n",
      "\n",
      "[context_map] k='crashme3:13' v=range(3, 7)\n",
      "[context_map] k='crashme3:17' v=range(11, 15)\n",
      "[context_map] k='crashme3:15' v=range(7, 11)\n"
     ]
    },
    {
     "name": "stderr",
     "output_type": "stream",
     "text": [
      "/Users/bohrok/.pyenv/versions/3.9.7/envs/fuzzingbook/lib/python3.9/site-packages/pulp/pulp.py:1313: UserWarning: Spaces are not permitted in the name. Converted to '_'\n",
      "  warnings.warn(\"Spaces are not permitted in the name. Converted to '_'\")\n"
     ]
    }
   ],
   "source": [
    "CFM.model_context(mut_trial=10)"
   ]
  },
  {
   "cell_type": "markdown",
   "metadata": {},
   "source": [
    "### Model formula"
   ]
  },
  {
   "cell_type": "code",
   "execution_count": 7,
   "metadata": {},
   "outputs": [
    {
     "name": "stdout",
     "output_type": "stream",
     "text": [
      "Modeling <('crashme3', 10)> -> <('crashme3', 12)>... formula: <lambda x: '\u0015' <= x[14] <= '󥼥'> (conf: 0.9058823529411765, trial: (10 / 10))\n",
      "Modeling <('crashme3', 10)> -> <('crashme3', 11)>... formula: <lambda: x x[1] < '\u0004' or x[1] > '񱮋'> (conf: 0.8823529411764706, trial: (10 / 10))\n",
      "Modeling <('crashme3', 12)> -> <('crashme3', 14)>... formula: <lambda x: x[6] >= 'f'> (conf: 0.5375, trial: (10 / 10))\n",
      "Modeling <('crashme3', 12)> -> <('crashme3', 13)>... formula: <lambda x: 'p' <= x[14] <= '󈼔'> (conf: 0.675, trial: (10 / 10))\n",
      "Modeling <('crashme3', 14)> -> <('crashme3', 16)>... formula: <lambda x: x[9] > 'd'> (conf: 0.5818181818181818, trial: (10 / 10))\n",
      "Modeling <('crashme3', 14)> -> <('crashme3', 15)>... formula: <lambda x: x[2] < '1'> (conf: 0.7090909090909091, trial: (10 / 10))\n",
      "Modeling <('crashme3', 16)> -> <('crashme3', 19)>... formula: <lambda x: x[2] > x[11]> (conf: 0.7333333333333333, trial: (10 / 10))\n",
      "Modeling <('crashme3', 16)> -> <('crashme3', 17)>... formula: <lambda x: '\u0001' <= x[12] <= '󷣦'> (conf: 0.6666666666666666, trial: (10 / 10))\n",
      "Modeling <('crashme', 2)> -> <('crashme', 3)>... formula: <lambda x: x[1] != 'b'> (conf: 0.6491228070175439, trial: (10 / 10))\n",
      "Modeling <('crashme', 2)> -> <('__exit__', 83)>... No accepts or rejects; skip.\n",
      "Modeling <('crashme', 3)> -> <('crashme', 4)>... formula: <lambda x: x[0] >= 'b'> (conf: 0.43529411764705883, trial: (10 / 10))\n",
      "Modeling <('crashme', 3)> -> <('__exit__', 83)>... No accepts or rejects; skip.\n",
      "Modeling <('crashme', 4)> -> <('crashme', 5)>... formula: <lambda x: x[2] == 'd'> (conf: 1.0, trial: (4 / 10))\n",
      "Modeling <('crashme', 4)> -> <('__exit__', 83)>... No accepts or rejects; skip.\n",
      "Modeling <('crashme', 5)> -> <('crashme', 6)>... formula: <lambda x: '-' <= x[4] <= '󅫤'> (conf: 0.2, trial: (10 / 10))\n",
      "Modeling <('crashme', 5)> -> <('__exit__', 83)>... No accepts or rejects; skip.\n"
     ]
    }
   ],
   "source": [
    "CFM.model_condition(max_trial=10)"
   ]
  },
  {
   "cell_type": "code",
   "execution_count": 8,
   "metadata": {},
   "outputs": [
    {
     "data": {
      "text/plain": [
       "{'crashme3:13': range(3, 7),\n",
       " 'crashme3:17': range(11, 15),\n",
       " 'crashme3:15': range(7, 11)}"
      ]
     },
     "execution_count": 8,
     "metadata": {},
     "output_type": "execute_result"
    }
   ],
   "source": [
    "CFM.get_context_map()"
   ]
  },
  {
   "cell_type": "code",
   "execution_count": 9,
   "metadata": {},
   "outputs": [
    {
     "name": "stdout",
     "output_type": "stream",
     "text": [
      "edge=E<('crashme3', 10) -> ('crashme3', 12)> cond=(\"lambda x: '\\x15' <= x[14] <= '\\U000e5f25'\", 0.9058823529411765)\n",
      "edge=E<('crashme3', 10) -> ('crashme3', 11)> cond=(\"lambda: x x[1] < '\\x04' or x[1] > '\\U00071b8b'\", 0.8823529411764706)\n",
      "edge=E<('crashme3', 12) -> ('crashme3', 14)> cond=(\"lambda x: x[6] >= 'f'\", 0.5375)\n",
      "edge=E<('crashme3', 12) -> ('crashme3', 13)> cond=(\"lambda x: 'p' <= x[14] <= '\\U000c8f14'\", 0.675)\n",
      "edge=E<('crashme3', 14) -> ('crashme3', 16)> cond=(\"lambda x: x[9] > 'd'\", 0.5818181818181818)\n",
      "edge=E<('crashme3', 14) -> ('crashme3', 15)> cond=(\"lambda x: x[2] < '1'\", 0.7090909090909091)\n",
      "edge=E<('crashme3', 16) -> ('crashme3', 19)> cond=('lambda x: x[2] > x[11]', 0.7333333333333333)\n",
      "edge=E<('crashme3', 16) -> ('crashme3', 17)> cond=(\"lambda x: '\\x01' <= x[12] <= '\\U000f78e6'\", 0.6666666666666666)\n",
      "edge=E<('crashme', 2) -> ('crashme', 3)> cond=(\"lambda x: x[1] != 'b'\", 0.6491228070175439)\n",
      "edge=E<('crashme', 2) -> ('__exit__', 83)> cond=(None, None)\n",
      "edge=E<('crashme', 3) -> ('crashme', 4)> cond=(\"lambda x: x[0] >= 'b'\", 0.43529411764705883)\n",
      "edge=E<('crashme', 3) -> ('__exit__', 83)> cond=(None, None)\n",
      "edge=E<('crashme', 4) -> ('crashme', 5)> cond=(\"lambda x: x[2] == 'd'\", 1.0)\n",
      "edge=E<('crashme', 4) -> ('__exit__', 83)> cond=(None, None)\n",
      "edge=E<('crashme', 5) -> ('crashme', 6)> cond=(\"lambda x: '-' <= x[4] <= '\\U000c5ae4'\", 0.2)\n",
      "edge=E<('crashme', 5) -> ('__exit__', 83)> cond=(None, None)\n"
     ]
    }
   ],
   "source": [
    "for edge, cond in CFM.get_edge_cond().items():\n",
    "    print(f\"edge={edge} {cond=}\")"
   ]
  },
  {
   "cell_type": "code",
   "execution_count": null,
   "metadata": {},
   "outputs": [],
   "source": []
  }
 ],
 "metadata": {
  "interpreter": {
   "hash": "deff4902f075b32772b654ad9837b62ee8d03080ac9d26d4b178c85d1c0ff37c"
  },
  "kernelspec": {
   "display_name": "Python 3.9.7 64-bit ('fuzzingbook': pyenv)",
   "language": "python",
   "name": "python3"
  },
  "language_info": {
   "codemirror_mode": {
    "name": "ipython",
    "version": 3
   },
   "file_extension": ".py",
   "mimetype": "text/x-python",
   "name": "python",
   "nbconvert_exporter": "python",
   "pygments_lexer": "ipython3",
   "version": "3.9.7"
  },
  "orig_nbformat": 4
 },
 "nbformat": 4,
 "nbformat_minor": 2
}
