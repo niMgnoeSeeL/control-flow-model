{
 "cells": [
  {
   "cell_type": "markdown",
   "metadata": {},
   "source": [
    "# Pilot CFM implementation"
   ]
  },
  {
   "cell_type": "markdown",
   "metadata": {},
   "source": [
    "### Load example programs\n"
   ]
  },
  {
   "cell_type": "code",
   "execution_count": null,
   "metadata": {},
   "outputs": [],
   "source": [
    "from example.python.crash import crashme, crashme3\n",
    "from example.python.triangle import triangle, triangle3\n",
    "from example.python.count import count\n",
    "\n",
    "import inspect\n",
    "\n",
    "program = crashme3\n",
    "print(inspect.getsource(program))"
   ]
  },
  {
   "cell_type": "markdown",
   "metadata": {},
   "source": [
    "### Fuzzing configuration\n"
   ]
  },
  {
   "cell_type": "code",
   "execution_count": null,
   "metadata": {},
   "outputs": [],
   "source": [
    "n = 30000\n",
    "seed_input_list = [\"000abcdefghijkl\", \"100bad!asdfqwer\", \"010asdfbad!qwer\", \"001asdfqwerbad!\"]\n",
    "program(seed_input_list[1])"
   ]
  },
  {
   "cell_type": "markdown",
   "metadata": {},
   "source": [
    "### Run fuzzer and record input, coverage\n"
   ]
  },
  {
   "cell_type": "code",
   "execution_count": null,
   "metadata": {},
   "outputs": [],
   "source": [
    "from GreyboxFuzzer import GreyboxFuzzerRecorder\n",
    "from MutationFuzzer import Mutator, PowerSchedule\n",
    "from Coverage import FunctionContCovRunner\n",
    "\n",
    "greybox_recorder = GreyboxFuzzerRecorder(\n",
    "    seed_input_list, Mutator(), PowerSchedule()\n",
    ")\n",
    "greybox_recorder.runs(FunctionContCovRunner(program), trials=n)\n",
    "record = greybox_recorder.get_record()\n",
    "\n",
    "print(f\"Unique path: {len(record)}\\n\")\n",
    "for path, inputs in list(record.items()):\n",
    "    print(f\"{path=}\")\n",
    "    print(f\"{inputs=}\")\n",
    "    print()"
   ]
  },
  {
   "cell_type": "markdown",
   "metadata": {},
   "source": [
    "### Create a graph from coverage"
   ]
  },
  {
   "cell_type": "code",
   "execution_count": null,
   "metadata": {},
   "outputs": [],
   "source": [
    "from graph import Graph\n",
    "\n",
    "contcov_graph = Graph()\n",
    "coverage_graph = Graph()\n",
    "for path, inputs in record.items():\n",
    "    contcov_graph.accept(path)\n",
    "    coverage_list = [contcov[1] for contcov in path]\n",
    "    coverage_graph.accept(coverage_list)\n",
    "# contcov_graph.print_graph()\n",
    "coverage_graph.print_graph()"
   ]
  },
  {
   "cell_type": "code",
   "execution_count": null,
   "metadata": {},
   "outputs": [],
   "source": [
    "call_contexts = set()\n",
    "for path, inputs in record.items():\n",
    "    for cont_cov in path:\n",
    "        call_stack, _ = cont_cov\n",
    "        for call_context in call_stack.split('-'):\n",
    "            if call_context == '':\n",
    "                continue\n",
    "            elif call_context.split(':')[0] in ['run_function', 'coverage']:\n",
    "                continue\n",
    "            call_contexts.add(call_context)\n",
    "print(f\"{call_contexts=}\")"
   ]
  },
  {
   "cell_type": "markdown",
   "metadata": {},
   "source": [
    "### [Temp] assign temporary contextmap -- need to be changed to learn this"
   ]
  },
  {
   "cell_type": "code",
   "execution_count": null,
   "metadata": {},
   "outputs": [],
   "source": [
    "context_map = {}\n",
    "context_map[\"crashme3:13\"] = range(3, 7)\n",
    "context_map[\"crashme3:15\"] = range(7, 11)\n",
    "context_map[\"crashme3:17\"] = range(11, 15)"
   ]
  },
  {
   "cell_type": "markdown",
   "metadata": {},
   "source": [
    "### Model formula"
   ]
  },
  {
   "cell_type": "code",
   "execution_count": null,
   "metadata": {},
   "outputs": [],
   "source": [
    "from ControlFlowModel import ControlFlowModel\n",
    "\n",
    "CFM = ControlFlowModel(record, contcov_graph, coverage_graph, context_map=context_map)\n",
    "CFM.identify_branch()\n",
    "CFM.model_condition()"
   ]
  },
  {
   "cell_type": "markdown",
   "metadata": {},
   "source": [
    "# Previous"
   ]
  },
  {
   "cell_type": "markdown",
   "metadata": {},
   "source": [
    "### Identify branching point from coverage data\n"
   ]
  },
  {
   "cell_type": "code",
   "execution_count": null,
   "metadata": {},
   "outputs": [],
   "source": [
    "\n",
    "from ControlFlowModel import ControlFlowModel\n",
    "\n",
    "coverage_graph = CoverageGraph()\n",
    "for cov, inputs in list(record.items()):\n",
    "    print(f\"[Coverage]: {cov}, [Input]: {inputs}\")\n",
    "    coverage_graph.accept(cov)\n",
    "print(\"\\n[Tree]\")\n",
    "coverage_graph.print_tree()"
   ]
  },
  {
   "cell_type": "markdown",
   "metadata": {},
   "source": [
    "### Build control flow model\n"
   ]
  },
  {
   "cell_type": "code",
   "execution_count": null,
   "metadata": {},
   "outputs": [],
   "source": [
    "cfm = ControlFlowModel(cov_graph=coverage_graph, record=record)\n",
    "cfm.model()\n",
    "print(cfm)"
   ]
  },
  {
   "cell_type": "code",
   "execution_count": null,
   "metadata": {},
   "outputs": [],
   "source": []
  }
 ],
 "metadata": {
  "interpreter": {
   "hash": "deff4902f075b32772b654ad9837b62ee8d03080ac9d26d4b178c85d1c0ff37c"
  },
  "kernelspec": {
   "display_name": "Python 3.9.7 64-bit ('fuzzingbook': pyenv)",
   "language": "python",
   "name": "python3"
  },
  "language_info": {
   "codemirror_mode": {
    "name": "ipython",
    "version": 3
   },
   "file_extension": ".py",
   "mimetype": "text/x-python",
   "name": "python",
   "nbconvert_exporter": "python",
   "pygments_lexer": "ipython3",
   "version": "3.9.7"
  },
  "orig_nbformat": 4
 },
 "nbformat": 4,
 "nbformat_minor": 2
}
